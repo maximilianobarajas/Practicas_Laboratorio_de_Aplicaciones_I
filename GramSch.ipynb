{
  "nbformat": 4,
  "nbformat_minor": 0,
  "metadata": {
    "colab": {
      "provenance": [],
      "collapsed_sections": [],
      "include_colab_link": true
    },
    "kernelspec": {
      "name": "python3",
      "display_name": "Python 3"
    },
    "language_info": {
      "name": "python"
    }
  },
  "cells": [
    {
      "cell_type": "markdown",
      "metadata": {
        "id": "view-in-github",
        "colab_type": "text"
      },
      "source": [
        "<a href=\"https://colab.research.google.com/github/maxbarajas/GramSchmidt/blob/main/GramSch.ipynb\" target=\"_parent\"><img src=\"https://colab.research.google.com/assets/colab-badge.svg\" alt=\"Open In Colab\"/></a>"
      ]
    },
    {
      "cell_type": "code",
      "source": [
        "import numpy as np  #Importamos la biblioteca numpy\n",
        "\n",
        "def gram_schmidt(A):\n",
        "    res = A.copy()  # Hacemos una copia de la matriz A\n",
        "    for i in range(res.shape[1]):  #Iteramos en la matriz a través de dos ciclos for\n",
        "        for j in range(i):\n",
        "            # Aplicamos el proceso de Gram Schmidt:\n",
        "            res[:, i] = res[:, i] - np.dot(res[:, j], res[:, i]) * res[:, j]\n",
        "        # Normalizamos el resultado \n",
        "        res[:, i] = res[:, i] / np.linalg.norm(res[:, i])\n",
        "    #Regresamos nuestra matriz resultante    \n",
        "    return res\n",
        "\n",
        "\n",
        "A = np.array([\n",
        "    [1, 1, -1],\n",
        "    [1, -1, 1],\n",
        "    [-1, 1, 1]\n",
        "], dtype=float)                 #Declaramos la matriz con los vectores columna a ortonormalizar\n",
        "\n",
        "print(\"Matriz A:\\n\", A)         #Imprimimos la matriz a normalizar \n",
        "\n",
        "B = gram_schmidt(A)\n",
        "\n",
        "print(\"Matriz Ortonormal: \\n\", B)\n",
        "\n",
        "# Verificamos que la norma de cada vector generado en la matriz resultante sea 1\n",
        "\n",
        "print(\"Norma de u1:\", np.linalg.norm(B[:, 0]))\n",
        "print(\"Norma de u2:\", np.linalg.norm(B[:, 1]))\n",
        "print(\"Norma de u3:\", np.linalg.norm(B[:, 2]))"
      ],
      "metadata": {
        "colab": {
          "base_uri": "https://localhost:8080/"
        },
        "id": "83ooy4MucUko",
        "outputId": "83e6d2f5-84d2-4f1c-b1b6-bb80f5ca9576"
      },
      "execution_count": null,
      "outputs": [
        {
          "output_type": "stream",
          "name": "stdout",
          "text": [
            "Matriz A:\n",
            " [[ 1.  1. -1.]\n",
            " [ 1. -1.  1.]\n",
            " [-1.  1.  1.]]\n",
            "Matriz Ortonormal: \n",
            " [[ 5.77350269e-01  8.16496581e-01  2.35513869e-16]\n",
            " [ 5.77350269e-01 -4.08248290e-01  7.07106781e-01]\n",
            " [-5.77350269e-01  4.08248290e-01  7.07106781e-01]]\n",
            "Norma de u1: 1.0\n",
            "Norma de u2: 1.0\n",
            "Norma de u3: 1.0\n"
          ]
        }
      ]
    }
  ]
}