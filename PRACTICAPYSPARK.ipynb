{
  "nbformat": 4,
  "nbformat_minor": 0,
  "metadata": {
    "colab": {
      "provenance": []
    },
    "kernelspec": {
      "name": "python3",
      "display_name": "Python 3"
    },
    "language_info": {
      "name": "python"
    }
  },
  "cells": [
    {
      "cell_type": "code",
      "execution_count": 2,
      "metadata": {
        "id": "fSCjpU6nyJI3"
      },
      "outputs": [],
      "source": [
        "import os"
      ]
    },
    {
      "cell_type": "code",
      "source": [
        "#Instalamos pyspark\n",
        "!pip install pyspark"
      ],
      "metadata": {
        "colab": {
          "base_uri": "https://localhost:8080/"
        },
        "id": "cizbn6FnyS6_",
        "outputId": "8e01d2ec-1148-4576-8274-ed8387e0b749"
      },
      "execution_count": 3,
      "outputs": [
        {
          "output_type": "stream",
          "name": "stdout",
          "text": [
            "Looking in indexes: https://pypi.org/simple, https://us-python.pkg.dev/colab-wheels/public/simple/\n",
            "Collecting pyspark\n",
            "  Downloading pyspark-3.3.0.tar.gz (281.3 MB)\n",
            "\u001b[K     |████████████████████████████████| 281.3 MB 46 kB/s \n",
            "\u001b[?25hCollecting py4j==0.10.9.5\n",
            "  Downloading py4j-0.10.9.5-py2.py3-none-any.whl (199 kB)\n",
            "\u001b[K     |████████████████████████████████| 199 kB 51.3 MB/s \n",
            "\u001b[?25hBuilding wheels for collected packages: pyspark\n",
            "  Building wheel for pyspark (setup.py) ... \u001b[?25l\u001b[?25hdone\n",
            "  Created wheel for pyspark: filename=pyspark-3.3.0-py2.py3-none-any.whl size=281764026 sha256=c994d3047c2976d0381b31062513d744e09afa8ca9f2c6d5497462b54b997c52\n",
            "  Stored in directory: /root/.cache/pip/wheels/7a/8e/1b/f73a52650d2e5f337708d9f6a1750d451a7349a867f928b885\n",
            "Successfully built pyspark\n",
            "Installing collected packages: py4j, pyspark\n",
            "Successfully installed py4j-0.10.9.5 pyspark-3.3.0\n"
          ]
        }
      ]
    },
    {
      "cell_type": "code",
      "source": [
        "#Importamos una sesión y la instanceamos\n",
        "from pyspark.sql import SparkSession\n",
        "spark = SparkSession.builder.appName('spark-dataframe-demo').getOrCreate()"
      ],
      "metadata": {
        "id": "8nFsE5KfyXlc"
      },
      "execution_count": 4,
      "outputs": []
    },
    {
      "cell_type": "code",
      "source": [
        "from pyspark.sql import *\n",
        " \n",
        "Employee = Row(\"firstName\", \"lastName\", \"email\", \"salary\")\n",
        "#Creamos a cada empleado\n",
        "employee1 = Employee('Basher', 'armbrust', 'bash@edureka.co', 100000)\n",
        "employee2 = Employee('Daniel', 'meng', 'daniel@stanford.edu', 120000 )\n",
        "employee3 = Employee('Muriel', None, 'muriel@waterloo.edu', 140000 )\n",
        "employee4 = Employee('Rachel', 'wendell', 'rach_3@edureka.co', 160000 )\n",
        "employee5 = Employee('Zach', 'galifianakis', 'zach_g@edureka.co', 160000 )\n",
        " \n",
        "print(Employee[0])\n",
        " \n",
        "print(employee3)\n",
        "#Asignamos id y nombre del departamento\n",
        "department1 = Row(id='123456', name='HR')\n",
        "department2 = Row(id='789012', name='OPS')\n",
        "department3 = Row(id='345678', name='FN')\n",
        "department4 = Row(id='901234', name='DEV')"
      ],
      "metadata": {
        "colab": {
          "base_uri": "https://localhost:8080/"
        },
        "id": "3YoAXTMBypEM",
        "outputId": "30fc1c6a-1e6d-49dd-a6e5-e35958fc6623"
      },
      "execution_count": 5,
      "outputs": [
        {
          "output_type": "stream",
          "name": "stdout",
          "text": [
            "firstName\n",
            "Row(firstName='Muriel', lastName=None, email='muriel@waterloo.edu', salary=140000)\n"
          ]
        }
      ]
    },
    {
      "cell_type": "code",
      "source": [
        "#A cada departamento con empleados le asignamos empleados y un nombre como id de departamento\n",
        "departmentWithEmployees1 = Row(department=department1, employees=[employee1, employee2, employee5])\n",
        "departmentWithEmployees2 = Row(department=department2, employees=[employee3, employee4])\n",
        "departmentWithEmployees3 = Row(department=department3, employees=[employee1, employee4, employee3])\n",
        "departmentWithEmployees4 = Row(department=department4, employees=[employee2, employee3])"
      ],
      "metadata": {
        "id": "EfE2kY98yuPW"
      },
      "execution_count": 6,
      "outputs": []
    },
    {
      "cell_type": "code",
      "source": [
        "#Guardamos a los departamentos con empleados en un dataframe mas grande\n",
        "departmentsWithEmployees_Seq = [departmentWithEmployees1, departmentWithEmployees2,departmentWithEmployees3,departmentWithEmployees4]\n",
        "dframe = spark.createDataFrame(departmentsWithEmployees_Seq)\n",
        "display(dframe)\n",
        "dframe.show()"
      ],
      "metadata": {
        "colab": {
          "base_uri": "https://localhost:8080/",
          "height": 200
        },
        "id": "qJbq2Zy5yve8",
        "outputId": "d3bb7a51-177d-4916-fe8b-05380075074a"
      },
      "execution_count": 13,
      "outputs": [
        {
          "output_type": "display_data",
          "data": {
            "text/plain": [
              "DataFrame[department: struct<id:string,name:string>, employees: array<struct<firstName:string,lastName:string,email:string,salary:bigint>>]"
            ]
          },
          "metadata": {}
        },
        {
          "output_type": "stream",
          "name": "stdout",
          "text": [
            "+-------------+--------------------+\n",
            "|   department|           employees|\n",
            "+-------------+--------------------+\n",
            "| {123456, HR}|[{Basher, armbrus...|\n",
            "|{789012, OPS}|[{Muriel, null, m...|\n",
            "| {345678, FN}|[{Basher, armbrus...|\n",
            "|{901234, DEV}|[{Daniel, meng, d...|\n",
            "+-------------+--------------------+\n",
            "\n"
          ]
        }
      ]
    },
    {
      "cell_type": "code",
      "source": [
        "#También podemos crear un dataframe a partir de un archivo csv\n",
        "fifa_df = spark.read.csv(\"PlayerNames.csv\", inferSchema = True, header = True)\n",
        "fifa_df.show()"
      ],
      "metadata": {
        "colab": {
          "base_uri": "https://localhost:8080/"
        },
        "id": "nWxlcT1dy_B0",
        "outputId": "6c363ae1-ec27-4b58-c37d-25bf1125f453"
      },
      "execution_count": 14,
      "outputs": [
        {
          "output_type": "stream",
          "name": "stdout",
          "text": [
            "+------------------+--------------------+\n",
            "|              Name|                 url|\n",
            "+------------------+--------------------+\n",
            "| Cristiano Ronaldo|/player/20801/cri...|\n",
            "|      Lionel Messi|/player/158023/li...|\n",
            "|            Neymar|/player/190871/ne...|\n",
            "|       Luis Suárez|/player/176580/lu...|\n",
            "|      Manuel Neuer|/player/167495/ma...|\n",
            "|            De Gea|/player/193080/de...|\n",
            "|Robert Lewandowski|/player/188545/ro...|\n",
            "|       Gareth Bale|/player/173731/ga...|\n",
            "|Zlatan Ibrahimović|/player/41236/zla...|\n",
            "|  Thibaut Courtois|/player/192119/th...|\n",
            "|    Jérôme Boateng|/player/183907/j%...|\n",
            "|       Eden Hazard|/player/183277/ed...|\n",
            "|       Luka Modrić|/player/177003/lu...|\n",
            "|        Mesut Özil|/player/176635/me...|\n",
            "|   Gonzalo Higuaín|/player/167664/go...|\n",
            "|      Thiago Silva|/player/164240/th...|\n",
            "|      Sergio Ramos|/player/155862/se...|\n",
            "|     Sergio Agüero|/player/153079/se...|\n",
            "|        Paul Pogba|/player/195864/pa...|\n",
            "| Antoine Griezmann|/player/194765/an...|\n",
            "+------------------+--------------------+\n",
            "only showing top 20 rows\n",
            "\n"
          ]
        }
      ]
    },
    {
      "cell_type": "code",
      "source": [
        "fifa_df.select('Name').show()"
      ],
      "metadata": {
        "colab": {
          "base_uri": "https://localhost:8080/"
        },
        "id": "8j1Rqk_0zWxM",
        "outputId": "e88f0c35-665e-4802-e6fa-5f2b4cf7ae54"
      },
      "execution_count": 12,
      "outputs": [
        {
          "output_type": "stream",
          "name": "stdout",
          "text": [
            "+------------------+\n",
            "|              Name|\n",
            "+------------------+\n",
            "| Cristiano Ronaldo|\n",
            "|      Lionel Messi|\n",
            "|            Neymar|\n",
            "|       Luis Suárez|\n",
            "|      Manuel Neuer|\n",
            "|            De Gea|\n",
            "|Robert Lewandowski|\n",
            "|       Gareth Bale|\n",
            "|Zlatan Ibrahimović|\n",
            "|  Thibaut Courtois|\n",
            "|    Jérôme Boateng|\n",
            "|       Eden Hazard|\n",
            "|       Luka Modrić|\n",
            "|        Mesut Özil|\n",
            "|   Gonzalo Higuaín|\n",
            "|      Thiago Silva|\n",
            "|      Sergio Ramos|\n",
            "|     Sergio Agüero|\n",
            "|        Paul Pogba|\n",
            "| Antoine Griezmann|\n",
            "+------------------+\n",
            "only showing top 20 rows\n",
            "\n"
          ]
        }
      ]
    }
  ]
}